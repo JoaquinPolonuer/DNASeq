{
 "cells": [
  {
   "cell_type": "code",
   "execution_count": 2,
   "metadata": {},
   "outputs": [],
   "source": [
    "seqs = [\"A\", \"C\", \"G\", \"T\"]"
   ]
  },
  {
   "cell_type": "code",
   "execution_count": 4,
   "metadata": {},
   "outputs": [
    {
     "data": {
      "text/plain": [
       "'AaaCaaGaaT'"
      ]
     },
     "execution_count": 4,
     "metadata": {},
     "output_type": "execute_result"
    }
   ],
   "source": [
    "\"\".join(seqs)"
   ]
  },
  {
   "cell_type": "code",
   "execution_count": 8,
   "metadata": {},
   "outputs": [
    {
     "data": {
      "text/plain": [
       "'A'"
      ]
     },
     "execution_count": 8,
     "metadata": {},
     "output_type": "execute_result"
    }
   ],
   "source": [
    "import random"
   ]
  },
  {
   "cell_type": "code",
   "execution_count": 29,
   "metadata": {},
   "outputs": [
    {
     "data": {
      "text/plain": [
       "'TGACGCGGCCCCTCTGCCATTGCCCTACCCAATCCGTAAGAGAGTTAATCCTAGCTAGGACATCCGTCAGTACCGGACCCAGAGAGACGCTCGAAGCAAC'"
      ]
     },
     "execution_count": 29,
     "metadata": {},
     "output_type": "execute_result"
    }
   ],
   "source": [
    "seq1 =\"\"\n",
    "for _ in range(100):\n",
    "    seq1 += random.choice(\"ACGT\")\n",
    "seq1"
   ]
  },
  {
   "cell_type": "code",
   "execution_count": 30,
   "metadata": {},
   "outputs": [
    {
     "data": {
      "text/plain": [
       "'TTGTGGACAAACGCGCACCGACTCTAGTTGCAACTCTCGAACCAGCCCTTTAGCAGATAAGGCGTCACCCCTCAGTTAATAAACTACTGCCGGGCGGTTT'"
      ]
     },
     "execution_count": 30,
     "metadata": {},
     "output_type": "execute_result"
    }
   ],
   "source": [
    "seq2 = \"\".join([random.choice(\"ACGT\") for _ in range(100)])\n",
    "seq2"
   ]
  },
  {
   "cell_type": "code",
   "execution_count": 37,
   "metadata": {},
   "outputs": [
    {
     "data": {
      "text/plain": [
       "'T'"
      ]
     },
     "execution_count": 37,
     "metadata": {},
     "output_type": "execute_result"
    }
   ],
   "source": [
    "def longestCommonPrefix(s1, s2):\n",
    "    i = 0 \n",
    "    while i < len(s1) and i < len(s2) and s1[i] == s2[i]:\n",
    "        i+=1\n",
    "    return s1[:i]\n",
    "longestCommonPrefix(seq1, seq2)"
   ]
  },
  {
   "cell_type": "code",
   "execution_count": 41,
   "metadata": {},
   "outputs": [
    {
     "data": {
      "text/plain": [
       "True"
      ]
     },
     "execution_count": 41,
     "metadata": {},
     "output_type": "execute_result"
    }
   ],
   "source": [
    "def match(s1,s2):\n",
    "    if len(s1) != len(s2):\n",
    "        return False\n",
    "    for i in range(len(s1)):\n",
    "        if s1[i] != s2[i]:\n",
    "            return False\n",
    "    return True\n",
    "match(\"AA\", \"AA\")\n",
    "#python has the builtin str == str"
   ]
  },
  {
   "cell_type": "code",
   "execution_count": 57,
   "metadata": {},
   "outputs": [
    {
     "data": {
      "text/plain": [
       "'ACCGT'"
      ]
     },
     "execution_count": 57,
     "metadata": {},
     "output_type": "execute_result"
    }
   ],
   "source": [
    "complement = {\"A\":\"T\", \"C\":\"G\", \"G\":\"C\", \"T\": \"A\"}\n",
    "\n",
    "def reverseComplement(s):\n",
    "    s2 = \"\"\n",
    "    for base in s:\n",
    "        s2 = complement[base] + s2\n",
    "    return s2\n",
    "\n",
    "#reverses: each base with its complementary but from bottom to top\n",
    "\n",
    "\n",
    "seq2 = reverseComplement(\"ACGGT\")\n",
    "seq2"
   ]
  },
  {
   "cell_type": "code",
   "execution_count": null,
   "metadata": {},
   "outputs": [],
   "source": []
  }
 ],
 "metadata": {
  "kernelspec": {
   "display_name": "Python 3",
   "language": "python",
   "name": "python3"
  },
  "language_info": {
   "codemirror_mode": {
    "name": "ipython",
    "version": 3
   },
   "file_extension": ".py",
   "mimetype": "text/x-python",
   "name": "python",
   "nbconvert_exporter": "python",
   "pygments_lexer": "ipython3",
   "version": "3.7.3"
  }
 },
 "nbformat": 4,
 "nbformat_minor": 4
}

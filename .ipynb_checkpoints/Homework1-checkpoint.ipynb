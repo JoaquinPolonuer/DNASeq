{
 "cells": [
  {
   "cell_type": "code",
   "execution_count": 1,
   "metadata": {},
   "outputs": [],
   "source": [
    "def readGenome(filename):\n",
    "    genome = \"\"\n",
    "    with open(filename,\"r\") as f:\n",
    "        for line in f:\n",
    "            if not line[0] == \">\":\n",
    "                genome += line.rstrip()\n",
    "    return genome"
   ]
  },
  {
   "cell_type": "code",
   "execution_count": 23,
   "metadata": {},
   "outputs": [],
   "source": [
    "def naive(p, t):\n",
    "    occurrences = []\n",
    "    for i in range(len(t)-len(p)+1):\n",
    "        match =True\n",
    "        for j in range(len(p)):\n",
    "            if not p[j] == t[i+j]:\n",
    "                match = False\n",
    "                break\n",
    "        if match: \n",
    "            occurrences.append(i)\n",
    "    return occurrences"
   ]
  },
  {
   "cell_type": "code",
   "execution_count": 39,
   "metadata": {},
   "outputs": [],
   "source": [
    "def reverseComplement(s):\n",
    "    complement = {\"A\":\"T\", \"C\":\"G\", \"G\":\"C\", \"T\": \"A\", \"N\":\"N\"}\n",
    "    s2 = \"\"\n",
    "    for base in s:\n",
    "        s2 = complement[base] + s2\n",
    "    return s2"
   ]
  },
  {
   "cell_type": "code",
   "execution_count": 13,
   "metadata": {},
   "outputs": [],
   "source": [
    "def naive_with_rc(p, t):\n",
    "    occurrences = []\n",
    "    for i in range(len(t)-len(p)+1):\n",
    "        match =True\n",
    "        for j in range(len(p)):\n",
    "            if not p[j] == t[i+j]:\n",
    "                match = False\n",
    "                break\n",
    "        if match: \n",
    "            occurrences.append(i)\n",
    "    p = reverseComplement(p)\n",
    "    for i in range(len(t)-len(p)+1):\n",
    "        match =True\n",
    "        for j in range(len(p)):\n",
    "            if not p[j] == t[i+j]:\n",
    "                match = False\n",
    "                break\n",
    "        if match: \n",
    "            occurrences.append(i)\n",
    "    return occurrences"
   ]
  },
  {
   "cell_type": "code",
   "execution_count": 14,
   "metadata": {},
   "outputs": [],
   "source": [
    "def naive_with_rc2(p, t):\n",
    "    occurrences = []\n",
    "    revp = reverseComplement(p)\n",
    "    for i in range(len(t)-len(p)+1):\n",
    "        subs = t[i:i+len(p)]\n",
    "        if  subs == p or subs == revp:\n",
    "            occurrences.append(i)\n",
    "    return occurrences"
   ]
  },
  {
   "cell_type": "code",
   "execution_count": 72,
   "metadata": {},
   "outputs": [],
   "source": [
    "def naive_with_rc3(p, t):\n",
    "    occurrences = []\n",
    "    revp = reverseComplement(p)\n",
    "    for i in range(len(t)-len(p)+1):\n",
    "        match = False\n",
    "        if p[0] == t[0]:   \n",
    "            match =True\n",
    "            for j in range(1,len(p)):\n",
    "                if p[j] != [i+j]:\n",
    "                    match = False            \n",
    "                    break\n",
    "            if match: \n",
    "                occurrences.append(i)\n",
    "        elif revp[0] == t[0]:\n",
    "            match = True\n",
    "            for j in range(1,len(p)):\n",
    "                if not revp[j] == t[i+j]:\n",
    "                    match = False\n",
    "         \n",
    "                    break\n",
    "            if match: \n",
    "                occurrences.append(i)\n",
    "  \n",
    "    return occurrences"
   ]
  },
  {
   "cell_type": "code",
   "execution_count": 73,
   "metadata": {},
   "outputs": [],
   "source": [
    "genome = readGenome(\"lambda_virus.fa\")"
   ]
  },
  {
   "cell_type": "code",
   "execution_count": 74,
   "metadata": {},
   "outputs": [
    {
     "data": {
      "text/plain": [
       "[]"
      ]
     },
     "execution_count": 74,
     "metadata": {},
     "output_type": "execute_result"
    }
   ],
   "source": [
    "naive_with_rc3(\"AGTCGA\", genome)"
   ]
  },
  {
   "cell_type": "code",
   "execution_count": null,
   "metadata": {},
   "outputs": [],
   "source": []
  },
  {
   "cell_type": "code",
   "execution_count": null,
   "metadata": {},
   "outputs": [],
   "source": []
  }
 ],
 "metadata": {
  "kernelspec": {
   "display_name": "Python 3",
   "language": "python",
   "name": "python3"
  },
  "language_info": {
   "codemirror_mode": {
    "name": "ipython",
    "version": 3
   },
   "file_extension": ".py",
   "mimetype": "text/x-python",
   "name": "python",
   "nbconvert_exporter": "python",
   "pygments_lexer": "ipython3",
   "version": "3.7.3"
  }
 },
 "nbformat": 4,
 "nbformat_minor": 4
}

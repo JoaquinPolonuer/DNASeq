{
 "cells": [
  {
   "cell_type": "code",
   "execution_count": 3,
   "metadata": {},
   "outputs": [],
   "source": [
    "def readGenome(filename):\n",
    "    genome = \"\"\n",
    "    with open(filename,\"r\") as f:\n",
    "        for line in f:\n",
    "            if not line[0] == \">\":\n",
    "                genome += line.rstrip()\n",
    "    return genome"
   ]
  },
  {
   "cell_type": "code",
   "execution_count": 4,
   "metadata": {},
   "outputs": [],
   "source": [
    "def readFastQ(filename):\n",
    "    sequences = []\n",
    "    qualities = []\n",
    "    with open(filename) as fh:\n",
    "        while True:\n",
    "            fh.readline()\n",
    "            seq = fh.readline().rstrip()\n",
    "            fh.readline()\n",
    "            qual = fh.readline().rstrip()\n",
    "            if len(seq) == 0:\n",
    "                break\n",
    "            sequences.append(seq)\n",
    "            qualities.append(qual)\n",
    "    return sequences, qualities"
   ]
  },
  {
   "cell_type": "code",
   "execution_count": 5,
   "metadata": {},
   "outputs": [],
   "source": [
    "def naive(p, t):\n",
    "    occurrences = []\n",
    "    for i in range(len(t)-len(p)+1):\n",
    "        match =True\n",
    "        for j in range(len(p)):\n",
    "            if not p[j] == t[i+j]:\n",
    "                match = False\n",
    "                break\n",
    "        if match: \n",
    "            occurrences.append(i)\n",
    "    return occurrences"
   ]
  },
  {
   "cell_type": "code",
   "execution_count": 6,
   "metadata": {},
   "outputs": [],
   "source": [
    "def reverseComplement(s):\n",
    "    complement = {\"A\":\"T\", \"C\":\"G\", \"G\":\"C\", \"T\": \"A\", \"N\":\"N\"}\n",
    "    s2 = \"\"\n",
    "    for base in s:\n",
    "        s2 = complement[base] + s2\n",
    "    return s2"
   ]
  },
  {
   "cell_type": "code",
   "execution_count": 7,
   "metadata": {},
   "outputs": [],
   "source": [
    "def phred33ToQ(qual):\n",
    "    return ord(qual) - 33"
   ]
  },
  {
   "cell_type": "code",
   "execution_count": 8,
   "metadata": {},
   "outputs": [],
   "source": [
    "genome = readGenome(\"phix.fa\")"
   ]
  },
  {
   "cell_type": "code",
   "execution_count": 9,
   "metadata": {},
   "outputs": [],
   "source": [
    "import random\n",
    "def generateReads(genome, numReads, readLen):\n",
    "    reads = []\n",
    "    for _ in range(numReads):\n",
    "        start = random.randint(0, len(genome)-readLen)-1\n",
    "        reads.append(genome[start:start+readLen])\n",
    "    return reads"
   ]
  },
  {
   "cell_type": "code",
   "execution_count": 10,
   "metadata": {},
   "outputs": [],
   "source": [
    "seqs=generateReads(genome, 100, 100)"
   ]
  },
  {
   "cell_type": "code",
   "execution_count": 11,
   "metadata": {},
   "outputs": [],
   "source": [
    "matches = 0\n",
    "for i in seqs:\n",
    "    if len(naive(i,genome)) > 0:\n",
    "        matches += 1"
   ]
  },
  {
   "cell_type": "code",
   "execution_count": 12,
   "metadata": {},
   "outputs": [
    {
     "name": "stdout",
     "output_type": "stream",
     "text": [
      "100/100 reads matched exactly\n"
     ]
    }
   ],
   "source": [
    "print(\"%d/%d reads matched exactly\"%(matches, len(seqs)))"
   ]
  },
  {
   "cell_type": "raw",
   "metadata": {},
   "source": [
    "----------------------------------------------------------------------------------------------------------------------------------------------------------------------------------------"
   ]
  },
  {
   "cell_type": "code",
   "execution_count": 13,
   "metadata": {},
   "outputs": [],
   "source": [
    "phix_reads, _ = readFastQ(\"ERR266411_1.first1000.fastq\")"
   ]
  },
  {
   "cell_type": "code",
   "execution_count": 14,
   "metadata": {},
   "outputs": [],
   "source": [
    "numMatches = 0\n",
    "reverseComplement(phix_reads[0])\n",
    "for i in phix_reads:\n",
    "    i = i[:30]\n",
    "    matches = naive(i,genome)\n",
    "    matches.extend(naive(reverseComplement(i),genome))\n",
    "    if len(matches) > 0:\n",
    "        numMatches += 1"
   ]
  },
  {
   "cell_type": "code",
   "execution_count": 156,
   "metadata": {},
   "outputs": [
    {
     "name": "stdout",
     "output_type": "stream",
     "text": [
      "932/1000 reads matched exactly\n"
     ]
    }
   ],
   "source": [
    "print(\"%d/%d reads matched exactly\"%(numMatches, len(phix_reads)))\n",
    "#sequencing errors or individual difference"
   ]
  },
  {
   "cell_type": "code",
   "execution_count": 17,
   "metadata": {},
   "outputs": [],
   "source": [
    "def naive_with_rc(p, t):\n",
    "    occurrences = []\n",
    "    for i in range(len(t)-len(p)+1):\n",
    "        match =True\n",
    "        for j in range(len(p)):\n",
    "            if not p[j] == t[i+j]:\n",
    "                match = False\n",
    "                break\n",
    "        if match: \n",
    "            occurrences.append(i)\n",
    "    p = reverseComplement(p)\n",
    "    for i in range(len(t)-len(p)+1):\n",
    "        match =True\n",
    "        for j in range(len(p)):\n",
    "            if not p[j] == t[i+j]:\n",
    "                match = False\n",
    "                break\n",
    "        if match: \n",
    "            occurrences.append(i)\n",
    "    return occurrences"
   ]
  },
  {
   "cell_type": "code",
   "execution_count": 18,
   "metadata": {},
   "outputs": [],
   "source": [
    "numMatches = 0\n",
    "reverseComplement(phix_reads[0])\n",
    "for i in phix_reads:\n",
    "    i = i[:30]\n",
    "    matches = naive_with_rc(i,genome)\n",
    "  \n",
    "    if len(matches) > 0:\n",
    "        numMatches += 1"
   ]
  },
  {
   "cell_type": "code",
   "execution_count": 19,
   "metadata": {},
   "outputs": [
    {
     "name": "stdout",
     "output_type": "stream",
     "text": [
      "932/1000 reads matched exactly\n"
     ]
    }
   ],
   "source": [
    "print(\"%d/%d reads matched exactly\"%(numMatches, len(phix_reads)))\n",
    "#sequencing errors or individual difference"
   ]
  },
  {
   "cell_type": "code",
   "execution_count": 23,
   "metadata": {},
   "outputs": [],
   "source": [
    "def naive_with_rc2(p, t):\n",
    "    occurrences = []\n",
    "    revp = reverseComplement(p)\n",
    "    for i in range(len(t)-len(p)+1):\n",
    "        subs = t[i:i+len(p)]\n",
    "        if  subs == p or subs == revp:\n",
    "            occurrences.append(i)\n",
    "    return occurrences"
   ]
  },
  {
   "cell_type": "code",
   "execution_count": 26,
   "metadata": {},
   "outputs": [],
   "source": [
    "def naive_with_rc3(p, t):\n",
    "    occurrences = []\n",
    "    revp = reverseComplemet(p)\n",
    "    for i in range(len(t)-len(p)+1):\n",
    "        match =True\n",
    "        if p[0] == t[0]:\n",
    "            for j in range(1,len(p)):\n",
    "                if not p[j] == t[i+j]:\n",
    "                    match = False\n",
    "                    break\n",
    "        if revp[0] == t[0]:\n",
    "             for j in range(1,len(p)):\n",
    "                if not revp[j] == t[i+j]:\n",
    "                    match = False\n",
    "                    break\n",
    "        if match: \n",
    "            occurrences.append(i)\n",
    "  \n",
    "    return occurrences"
   ]
  },
  {
   "cell_type": "code",
   "execution_count": 27,
   "metadata": {},
   "outputs": [],
   "source": [
    "numMatches = 0\n",
    "reverseComplement(phix_reads[0])\n",
    "for i in phix_reads:\n",
    "    i = i[:30]\n",
    "    matches = naive_with_rc(i,genome)\n",
    "  \n",
    "    if len(matches) > 0:\n",
    "        numMatches += 1"
   ]
  },
  {
   "cell_type": "code",
   "execution_count": 28,
   "metadata": {},
   "outputs": [
    {
     "name": "stdout",
     "output_type": "stream",
     "text": [
      "932/1000 reads matched exactly\n"
     ]
    }
   ],
   "source": [
    "print(\"%d/%d reads matched exactly\"%(numMatches, len(phix_reads)))\n",
    "#sequencing errors or individual difference"
   ]
  },
  {
   "cell_type": "code",
   "execution_count": null,
   "metadata": {},
   "outputs": [],
   "source": []
  }
 ],
 "metadata": {
  "kernelspec": {
   "display_name": "Python 3",
   "language": "python",
   "name": "python3"
  },
  "language_info": {
   "codemirror_mode": {
    "name": "ipython",
    "version": 3
   },
   "file_extension": ".py",
   "mimetype": "text/x-python",
   "name": "python",
   "nbconvert_exporter": "python",
   "pygments_lexer": "ipython3",
   "version": "3.7.3"
  }
 },
 "nbformat": 4,
 "nbformat_minor": 4
}
